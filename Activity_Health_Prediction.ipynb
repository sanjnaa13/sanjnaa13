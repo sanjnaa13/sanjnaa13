{
 "cells": [
  {
   "cell_type": "code",
   "execution_count": 18,
   "metadata": {},
   "outputs": [],
   "source": [
    "#Importing necessary libraries\n",
    "\n",
    "import numpy as np\n",
    "import matplotlib.pyplot as plt \n",
    "\n",
    "import pandas as pd  \n",
    "import seaborn as sns \n",
    "import sklearn "
   ]
  },
  {
   "cell_type": "code",
   "execution_count": 19,
   "metadata": {},
   "outputs": [],
   "source": [
    "df = pd.read_csv('C:\\\\Users\\\\sanjn\\\\Desktop\\\\Project\\\\Data (2).csv')"
   ]
  },
  {
   "cell_type": "code",
   "execution_count": 20,
   "metadata": {},
   "outputs": [
    {
     "data": {
      "text/html": [
       "<div>\n",
       "<style scoped>\n",
       "    .dataframe tbody tr th:only-of-type {\n",
       "        vertical-align: middle;\n",
       "    }\n",
       "\n",
       "    .dataframe tbody tr th {\n",
       "        vertical-align: top;\n",
       "    }\n",
       "\n",
       "    .dataframe thead th {\n",
       "        text-align: right;\n",
       "    }\n",
       "</style>\n",
       "<table border=\"1\" class=\"dataframe\">\n",
       "  <thead>\n",
       "    <tr style=\"text-align: right;\">\n",
       "      <th></th>\n",
       "      <th>Activity</th>\n",
       "    </tr>\n",
       "  </thead>\n",
       "  <tbody>\n",
       "    <tr>\n",
       "      <th>0</th>\n",
       "      <td>WALKING</td>\n",
       "    </tr>\n",
       "    <tr>\n",
       "      <th>1</th>\n",
       "      <td>WALKING</td>\n",
       "    </tr>\n",
       "    <tr>\n",
       "      <th>2</th>\n",
       "      <td>WALKING</td>\n",
       "    </tr>\n",
       "    <tr>\n",
       "      <th>3</th>\n",
       "      <td>WALKING</td>\n",
       "    </tr>\n",
       "    <tr>\n",
       "      <th>4</th>\n",
       "      <td>WALKING</td>\n",
       "    </tr>\n",
       "  </tbody>\n",
       "</table>\n",
       "</div>"
      ],
      "text/plain": [
       "  Activity\n",
       "0  WALKING\n",
       "1  WALKING\n",
       "2  WALKING\n",
       "3  WALKING\n",
       "4  WALKING"
      ]
     },
     "execution_count": 20,
     "metadata": {},
     "output_type": "execute_result"
    }
   ],
   "source": [
    "#Displaying columns whose datatype is 'object'\n",
    "\n",
    "obj_df = df.select_dtypes(include=['object']).copy()\n",
    "obj_df.head()"
   ]
  },
  {
   "cell_type": "code",
   "execution_count": 21,
   "metadata": {},
   "outputs": [
    {
     "data": {
      "text/html": [
       "<div>\n",
       "<style scoped>\n",
       "    .dataframe tbody tr th:only-of-type {\n",
       "        vertical-align: middle;\n",
       "    }\n",
       "\n",
       "    .dataframe tbody tr th {\n",
       "        vertical-align: top;\n",
       "    }\n",
       "\n",
       "    .dataframe thead th {\n",
       "        text-align: right;\n",
       "    }\n",
       "</style>\n",
       "<table border=\"1\" class=\"dataframe\">\n",
       "  <thead>\n",
       "    <tr style=\"text-align: right;\">\n",
       "      <th></th>\n",
       "      <th>Activity</th>\n",
       "    </tr>\n",
       "  </thead>\n",
       "  <tbody>\n",
       "  </tbody>\n",
       "</table>\n",
       "</div>"
      ],
      "text/plain": [
       "Empty DataFrame\n",
       "Columns: [Activity]\n",
       "Index: []"
      ]
     },
     "execution_count": 21,
     "metadata": {},
     "output_type": "execute_result"
    }
   ],
   "source": [
    "obj_df[obj_df.isnull().any(axis=1)]"
   ]
  },
  {
   "cell_type": "code",
   "execution_count": 22,
   "metadata": {},
   "outputs": [],
   "source": [
    "obj_df = obj_df.fillna({\"Activity\": \"WALKING\"})"
   ]
  },
  {
   "cell_type": "markdown",
   "metadata": {},
   "source": [
    "# Activity Prediction "
   ]
  },
  {
   "cell_type": "code",
   "execution_count": 23,
   "metadata": {},
   "outputs": [
    {
     "data": {
      "text/plain": [
       "array([2, 1, 0])"
      ]
     },
     "execution_count": 23,
     "metadata": {},
     "output_type": "execute_result"
    }
   ],
   "source": [
    "#Label encoding the Activity column\n",
    "#Fit Transform assigns an integer value to every unique non integer value in the activity column\n",
    "\n",
    "from sklearn import preprocessing\n",
    "le = preprocessing.LabelEncoder()\n",
    "df['Activity'] = le.fit_transform(df['Activity'])\n",
    "df['Activity'].unique()"
   ]
  },
  {
   "cell_type": "code",
   "execution_count": 24,
   "metadata": {},
   "outputs": [
    {
     "data": {
      "text/html": [
       "<div>\n",
       "<style scoped>\n",
       "    .dataframe tbody tr th:only-of-type {\n",
       "        vertical-align: middle;\n",
       "    }\n",
       "\n",
       "    .dataframe tbody tr th {\n",
       "        vertical-align: top;\n",
       "    }\n",
       "\n",
       "    .dataframe thead th {\n",
       "        text-align: right;\n",
       "    }\n",
       "</style>\n",
       "<table border=\"1\" class=\"dataframe\">\n",
       "  <thead>\n",
       "    <tr style=\"text-align: right;\">\n",
       "      <th></th>\n",
       "      <th>X</th>\n",
       "      <th>Y</th>\n",
       "      <th>Z</th>\n",
       "      <th>Temperature</th>\n",
       "      <th>Heartbeat</th>\n",
       "      <th>Activity</th>\n",
       "    </tr>\n",
       "  </thead>\n",
       "  <tbody>\n",
       "    <tr>\n",
       "      <th>0</th>\n",
       "      <td>1.55</td>\n",
       "      <td>1.47</td>\n",
       "      <td>1.32</td>\n",
       "      <td>104</td>\n",
       "      <td>89</td>\n",
       "      <td>2</td>\n",
       "    </tr>\n",
       "    <tr>\n",
       "      <th>1</th>\n",
       "      <td>1.24</td>\n",
       "      <td>1.16</td>\n",
       "      <td>0.79</td>\n",
       "      <td>102</td>\n",
       "      <td>65</td>\n",
       "      <td>2</td>\n",
       "    </tr>\n",
       "    <tr>\n",
       "      <th>2</th>\n",
       "      <td>1.08</td>\n",
       "      <td>2.06</td>\n",
       "      <td>1.23</td>\n",
       "      <td>103</td>\n",
       "      <td>76</td>\n",
       "      <td>2</td>\n",
       "    </tr>\n",
       "    <tr>\n",
       "      <th>3</th>\n",
       "      <td>0.79</td>\n",
       "      <td>0.95</td>\n",
       "      <td>1.14</td>\n",
       "      <td>100</td>\n",
       "      <td>61</td>\n",
       "      <td>2</td>\n",
       "    </tr>\n",
       "    <tr>\n",
       "      <th>4</th>\n",
       "      <td>1.05</td>\n",
       "      <td>1.47</td>\n",
       "      <td>0.91</td>\n",
       "      <td>103</td>\n",
       "      <td>48</td>\n",
       "      <td>2</td>\n",
       "    </tr>\n",
       "  </tbody>\n",
       "</table>\n",
       "</div>"
      ],
      "text/plain": [
       "      X     Y     Z  Temperature  Heartbeat  Activity\n",
       "0  1.55  1.47  1.32          104         89         2\n",
       "1  1.24  1.16  0.79          102         65         2\n",
       "2  1.08  2.06  1.23          103         76         2\n",
       "3  0.79  0.95  1.14          100         61         2\n",
       "4  1.05  1.47  0.91          103         48         2"
      ]
     },
     "execution_count": 24,
     "metadata": {},
     "output_type": "execute_result"
    }
   ],
   "source": [
    "df.head()"
   ]
  },
  {
   "cell_type": "code",
   "execution_count": 25,
   "metadata": {},
   "outputs": [],
   "source": [
    "#Separating feature column(Input column) and label column(Output column)\n",
    "\n",
    "feature_column = ['X','Y','Z']\n",
    "x = df[feature_column]\n",
    "y = obj_df.Activity"
   ]
  },
  {
   "cell_type": "code",
   "execution_count": 26,
   "metadata": {},
   "outputs": [],
   "source": [
    "#Dividing dataset into training (70%) and testing set (30%)\n",
    "\n",
    "from sklearn.model_selection import train_test_split\n",
    "x_train, x_test, y_train, y_test = train_test_split(x, y, test_size = 0.3, random_state=5)"
   ]
  },
  {
   "cell_type": "code",
   "execution_count": 27,
   "metadata": {},
   "outputs": [
    {
     "data": {
      "text/plain": [
       "KNeighborsClassifier()"
      ]
     },
     "execution_count": 27,
     "metadata": {},
     "output_type": "execute_result"
    }
   ],
   "source": [
    "#Importing KNN algorithm \n",
    "#Training the KNN model using knn.fit\n",
    "\n",
    "from sklearn.neighbors import KNeighborsClassifier\n",
    "knn = KNeighborsClassifier(n_neighbors = 5)\n",
    "knn.fit(x_train,y_train)"
   ]
  },
  {
   "cell_type": "code",
   "execution_count": 28,
   "metadata": {},
   "outputs": [],
   "source": [
    "#Model predicts the output using the testing set\n",
    "\n",
    "y_predict = knn.predict(x_test)"
   ]
  },
  {
   "cell_type": "markdown",
   "metadata": {},
   "source": [
    "# Confusion Matrix for Predicting Activity"
   ]
  },
  {
   "cell_type": "code",
   "execution_count": 29,
   "metadata": {},
   "outputs": [
    {
     "data": {
      "text/plain": [
       "array([[37, 20,  3],\n",
       "       [29, 78,  2],\n",
       "       [18,  6, 16]], dtype=int64)"
      ]
     },
     "execution_count": 29,
     "metadata": {},
     "output_type": "execute_result"
    }
   ],
   "source": [
    "from sklearn.metrics import confusion_matrix\n",
    "cm = confusion_matrix(y_test, y_predict)\n",
    "cm"
   ]
  },
  {
   "cell_type": "code",
   "execution_count": 30,
   "metadata": {},
   "outputs": [
    {
     "name": "stdout",
     "output_type": "stream",
     "text": [
      "0.6267942583732058\n"
     ]
    }
   ],
   "source": [
    "from sklearn.metrics import accuracy_score\n",
    "print(accuracy_score(y_test,y_predict))"
   ]
  },
  {
   "cell_type": "code",
   "execution_count": 31,
   "metadata": {},
   "outputs": [
    {
     "name": "stdout",
     "output_type": "stream",
     "text": [
      "enter x coordinate: 1\n",
      "enter y coordinate: 2\n",
      "enter z coordinate: 1.0\n",
      "['WALKING']\n"
     ]
    }
   ],
   "source": [
    "#Taking user input for x,y,z coordinates to predict the Activity\n",
    "\n",
    "input_x = float(input('enter x coordinate: '))\n",
    "input_y = float(input('enter y coordinate: '))\n",
    "input_z = float(input('enter z coordinate: '))\n",
    "out = [[input_x,input_y,input_z]]\n",
    "final_out = knn.predict(out)\n",
    "print(final_out)"
   ]
  },
  {
   "cell_type": "markdown",
   "metadata": {},
   "source": [
    "# Health Prediction"
   ]
  },
  {
   "cell_type": "code",
   "execution_count": 39,
   "metadata": {},
   "outputs": [],
   "source": [
    "df.drop(columns = 'Health',inplace = True)"
   ]
  },
  {
   "cell_type": "code",
   "execution_count": 42,
   "metadata": {},
   "outputs": [
    {
     "name": "stderr",
     "output_type": "stream",
     "text": [
      "<ipython-input-42-faffcbcfb7a8>:3: DeprecationWarning: The default dtype for empty Series will be 'object' instead of 'float64' in a future version. Specify a dtype explicitly to silence this warning.\n",
      "  H = pd.Series([])\n"
     ]
    }
   ],
   "source": [
    "#Inserting the value of Health based on Temperature and heartbeat\n",
    "\n",
    "H = pd.Series([])\n",
    "\n",
    "for i in range(len(df)):\n",
    "    if df[\"Temperature\"][i] >= 100 and df[\"Temperature\"][i] <= 102 and df['Heartbeat'][i] >= 48 and df['Heartbeat'][i] <= 84:\n",
    "        H[i] = \"Healthy\"\n",
    "    else:\n",
    "        H[i] = \"Unhealthy\"\n",
    "        \n",
    "df.insert(6,\"Health\",H)"
   ]
  },
  {
   "cell_type": "code",
   "execution_count": 43,
   "metadata": {},
   "outputs": [
    {
     "data": {
      "text/html": [
       "<div>\n",
       "<style scoped>\n",
       "    .dataframe tbody tr th:only-of-type {\n",
       "        vertical-align: middle;\n",
       "    }\n",
       "\n",
       "    .dataframe tbody tr th {\n",
       "        vertical-align: top;\n",
       "    }\n",
       "\n",
       "    .dataframe thead th {\n",
       "        text-align: right;\n",
       "    }\n",
       "</style>\n",
       "<table border=\"1\" class=\"dataframe\">\n",
       "  <thead>\n",
       "    <tr style=\"text-align: right;\">\n",
       "      <th></th>\n",
       "      <th>X</th>\n",
       "      <th>Y</th>\n",
       "      <th>Z</th>\n",
       "      <th>Temperature</th>\n",
       "      <th>Heartbeat</th>\n",
       "      <th>Activity</th>\n",
       "      <th>Health</th>\n",
       "    </tr>\n",
       "  </thead>\n",
       "  <tbody>\n",
       "    <tr>\n",
       "      <th>0</th>\n",
       "      <td>1.55</td>\n",
       "      <td>1.47</td>\n",
       "      <td>1.32</td>\n",
       "      <td>104</td>\n",
       "      <td>89</td>\n",
       "      <td>2</td>\n",
       "      <td>Unhealthy</td>\n",
       "    </tr>\n",
       "    <tr>\n",
       "      <th>1</th>\n",
       "      <td>1.24</td>\n",
       "      <td>1.16</td>\n",
       "      <td>0.79</td>\n",
       "      <td>102</td>\n",
       "      <td>65</td>\n",
       "      <td>2</td>\n",
       "      <td>Healthy</td>\n",
       "    </tr>\n",
       "    <tr>\n",
       "      <th>2</th>\n",
       "      <td>1.08</td>\n",
       "      <td>2.06</td>\n",
       "      <td>1.23</td>\n",
       "      <td>103</td>\n",
       "      <td>76</td>\n",
       "      <td>2</td>\n",
       "      <td>Unhealthy</td>\n",
       "    </tr>\n",
       "    <tr>\n",
       "      <th>3</th>\n",
       "      <td>0.79</td>\n",
       "      <td>0.95</td>\n",
       "      <td>1.14</td>\n",
       "      <td>100</td>\n",
       "      <td>61</td>\n",
       "      <td>2</td>\n",
       "      <td>Healthy</td>\n",
       "    </tr>\n",
       "    <tr>\n",
       "      <th>4</th>\n",
       "      <td>1.05</td>\n",
       "      <td>1.47</td>\n",
       "      <td>0.91</td>\n",
       "      <td>103</td>\n",
       "      <td>48</td>\n",
       "      <td>2</td>\n",
       "      <td>Unhealthy</td>\n",
       "    </tr>\n",
       "  </tbody>\n",
       "</table>\n",
       "</div>"
      ],
      "text/plain": [
       "      X     Y     Z  Temperature  Heartbeat  Activity     Health\n",
       "0  1.55  1.47  1.32          104         89         2  Unhealthy\n",
       "1  1.24  1.16  0.79          102         65         2    Healthy\n",
       "2  1.08  2.06  1.23          103         76         2  Unhealthy\n",
       "3  0.79  0.95  1.14          100         61         2    Healthy\n",
       "4  1.05  1.47  0.91          103         48         2  Unhealthy"
      ]
     },
     "execution_count": 43,
     "metadata": {},
     "output_type": "execute_result"
    }
   ],
   "source": [
    "df.head()"
   ]
  },
  {
   "cell_type": "code",
   "execution_count": 47,
   "metadata": {},
   "outputs": [],
   "source": [
    "#Separating feature column(Input column) and label column(Output column)\n",
    "#Dividing dataset into training (70%) and testing set (30%)\n",
    "\n",
    "feature_columns = ['Temperature','Heartbeat','Activity']\n",
    "x = df[feature_columns]\n",
    "y = df['Health']\n",
    "x_train, x_test, y_train, y_test = train_test_split(x, y, test_size = 0.3, random_state=5)"
   ]
  },
  {
   "cell_type": "code",
   "execution_count": 48,
   "metadata": {},
   "outputs": [
    {
     "data": {
      "text/plain": [
       "KNeighborsClassifier()"
      ]
     },
     "execution_count": 48,
     "metadata": {},
     "output_type": "execute_result"
    }
   ],
   "source": [
    "#Importing KNN algorithm \n",
    "#Training the KNN model using knn.fit\n",
    "\n",
    "from sklearn.neighbors import KNeighborsClassifier\n",
    "knn = KNeighborsClassifier(n_neighbors = 5)\n",
    "knn.fit(x_train, y_train)"
   ]
  },
  {
   "cell_type": "code",
   "execution_count": 49,
   "metadata": {},
   "outputs": [
    {
     "name": "stdout",
     "output_type": "stream",
     "text": [
      "enter Temperature: 100\n",
      "enter Heartbeat: 80\n",
      "enter Activity: 1\n",
      "['Healthy']\n"
     ]
    }
   ],
   "source": [
    "#Taking user input to predict the Health\n",
    "\n",
    "input_x = float(input('enter Temperature: '))\n",
    "input_y = float(input('enter Heartbeat: '))\n",
    "input_z = float(input('enter Activity: '))\n",
    "out = [[input_x,input_y,input_z]]\n",
    "final_out = knn.predict(out)\n",
    "print(final_out)"
   ]
  },
  {
   "cell_type": "code",
   "execution_count": 50,
   "metadata": {},
   "outputs": [
    {
     "data": {
      "text/html": [
       "<div>\n",
       "<style scoped>\n",
       "    .dataframe tbody tr th:only-of-type {\n",
       "        vertical-align: middle;\n",
       "    }\n",
       "\n",
       "    .dataframe tbody tr th {\n",
       "        vertical-align: top;\n",
       "    }\n",
       "\n",
       "    .dataframe thead th {\n",
       "        text-align: right;\n",
       "    }\n",
       "</style>\n",
       "<table border=\"1\" class=\"dataframe\">\n",
       "  <thead>\n",
       "    <tr style=\"text-align: right;\">\n",
       "      <th></th>\n",
       "      <th>X</th>\n",
       "      <th>Y</th>\n",
       "      <th>Z</th>\n",
       "      <th>Temperature</th>\n",
       "      <th>Heartbeat</th>\n",
       "      <th>Activity</th>\n",
       "      <th>Health</th>\n",
       "    </tr>\n",
       "  </thead>\n",
       "  <tbody>\n",
       "    <tr>\n",
       "      <th>0</th>\n",
       "      <td>1.55</td>\n",
       "      <td>1.47</td>\n",
       "      <td>1.32</td>\n",
       "      <td>104</td>\n",
       "      <td>89</td>\n",
       "      <td>2</td>\n",
       "      <td>Unhealthy</td>\n",
       "    </tr>\n",
       "    <tr>\n",
       "      <th>1</th>\n",
       "      <td>1.24</td>\n",
       "      <td>1.16</td>\n",
       "      <td>0.79</td>\n",
       "      <td>102</td>\n",
       "      <td>65</td>\n",
       "      <td>2</td>\n",
       "      <td>Healthy</td>\n",
       "    </tr>\n",
       "    <tr>\n",
       "      <th>2</th>\n",
       "      <td>1.08</td>\n",
       "      <td>2.06</td>\n",
       "      <td>1.23</td>\n",
       "      <td>103</td>\n",
       "      <td>76</td>\n",
       "      <td>2</td>\n",
       "      <td>Unhealthy</td>\n",
       "    </tr>\n",
       "    <tr>\n",
       "      <th>3</th>\n",
       "      <td>0.79</td>\n",
       "      <td>0.95</td>\n",
       "      <td>1.14</td>\n",
       "      <td>100</td>\n",
       "      <td>61</td>\n",
       "      <td>2</td>\n",
       "      <td>Healthy</td>\n",
       "    </tr>\n",
       "    <tr>\n",
       "      <th>4</th>\n",
       "      <td>1.05</td>\n",
       "      <td>1.47</td>\n",
       "      <td>0.91</td>\n",
       "      <td>103</td>\n",
       "      <td>48</td>\n",
       "      <td>2</td>\n",
       "      <td>Unhealthy</td>\n",
       "    </tr>\n",
       "    <tr>\n",
       "      <th>...</th>\n",
       "      <td>...</td>\n",
       "      <td>...</td>\n",
       "      <td>...</td>\n",
       "      <td>...</td>\n",
       "      <td>...</td>\n",
       "      <td>...</td>\n",
       "      <td>...</td>\n",
       "    </tr>\n",
       "    <tr>\n",
       "      <th>689</th>\n",
       "      <td>1.08</td>\n",
       "      <td>1.51</td>\n",
       "      <td>0.95</td>\n",
       "      <td>102</td>\n",
       "      <td>76</td>\n",
       "      <td>1</td>\n",
       "      <td>Healthy</td>\n",
       "    </tr>\n",
       "    <tr>\n",
       "      <th>690</th>\n",
       "      <td>0.89</td>\n",
       "      <td>1.41</td>\n",
       "      <td>0.79</td>\n",
       "      <td>104</td>\n",
       "      <td>87</td>\n",
       "      <td>1</td>\n",
       "      <td>Unhealthy</td>\n",
       "    </tr>\n",
       "    <tr>\n",
       "      <th>691</th>\n",
       "      <td>1.14</td>\n",
       "      <td>1.57</td>\n",
       "      <td>0.85</td>\n",
       "      <td>102</td>\n",
       "      <td>64</td>\n",
       "      <td>1</td>\n",
       "      <td>Healthy</td>\n",
       "    </tr>\n",
       "    <tr>\n",
       "      <th>692</th>\n",
       "      <td>0.93</td>\n",
       "      <td>1.44</td>\n",
       "      <td>0.77</td>\n",
       "      <td>104</td>\n",
       "      <td>42</td>\n",
       "      <td>1</td>\n",
       "      <td>Unhealthy</td>\n",
       "    </tr>\n",
       "    <tr>\n",
       "      <th>693</th>\n",
       "      <td>1.08</td>\n",
       "      <td>1.44</td>\n",
       "      <td>0.69</td>\n",
       "      <td>101</td>\n",
       "      <td>44</td>\n",
       "      <td>1</td>\n",
       "      <td>Unhealthy</td>\n",
       "    </tr>\n",
       "  </tbody>\n",
       "</table>\n",
       "<p>694 rows × 7 columns</p>\n",
       "</div>"
      ],
      "text/plain": [
       "        X     Y     Z  Temperature  Heartbeat  Activity     Health\n",
       "0    1.55  1.47  1.32          104         89         2  Unhealthy\n",
       "1    1.24  1.16  0.79          102         65         2    Healthy\n",
       "2    1.08  2.06  1.23          103         76         2  Unhealthy\n",
       "3    0.79  0.95  1.14          100         61         2    Healthy\n",
       "4    1.05  1.47  0.91          103         48         2  Unhealthy\n",
       "..    ...   ...   ...          ...        ...       ...        ...\n",
       "689  1.08  1.51  0.95          102         76         1    Healthy\n",
       "690  0.89  1.41  0.79          104         87         1  Unhealthy\n",
       "691  1.14  1.57  0.85          102         64         1    Healthy\n",
       "692  0.93  1.44  0.77          104         42         1  Unhealthy\n",
       "693  1.08  1.44  0.69          101         44         1  Unhealthy\n",
       "\n",
       "[694 rows x 7 columns]"
      ]
     },
     "execution_count": 50,
     "metadata": {},
     "output_type": "execute_result"
    }
   ],
   "source": [
    "df"
   ]
  },
  {
   "cell_type": "code",
   "execution_count": 51,
   "metadata": {},
   "outputs": [],
   "source": [
    "#Model predicts the output using the testing set\n",
    "\n",
    "y_predict = knn.predict(x_test)"
   ]
  },
  {
   "cell_type": "markdown",
   "metadata": {},
   "source": [
    "# Confusion Matrix for Predicting Health"
   ]
  },
  {
   "cell_type": "code",
   "execution_count": 52,
   "metadata": {},
   "outputs": [
    {
     "data": {
      "text/plain": [
       "array([[ 85,   2],\n",
       "       [  1, 121]], dtype=int64)"
      ]
     },
     "execution_count": 52,
     "metadata": {},
     "output_type": "execute_result"
    }
   ],
   "source": [
    "from sklearn.metrics import confusion_matrix\n",
    "cm = confusion_matrix(y_test, y_predict)\n",
    "cm"
   ]
  },
  {
   "cell_type": "code",
   "execution_count": 53,
   "metadata": {},
   "outputs": [
    {
     "name": "stdout",
     "output_type": "stream",
     "text": [
      "0.9856459330143541\n"
     ]
    }
   ],
   "source": [
    "from sklearn.metrics import accuracy_score\n",
    "print(accuracy_score(y_test,y_predict))"
   ]
  },
  {
   "cell_type": "code",
   "execution_count": null,
   "metadata": {},
   "outputs": [],
   "source": []
  }
 ],
 "metadata": {
  "kernelspec": {
   "display_name": "Python 3",
   "language": "python",
   "name": "python3"
  },
  "language_info": {
   "codemirror_mode": {
    "name": "ipython",
    "version": 3
   },
   "file_extension": ".py",
   "mimetype": "text/x-python",
   "name": "python",
   "nbconvert_exporter": "python",
   "pygments_lexer": "ipython3",
   "version": "3.8.5"
  }
 },
 "nbformat": 4,
 "nbformat_minor": 4
}
